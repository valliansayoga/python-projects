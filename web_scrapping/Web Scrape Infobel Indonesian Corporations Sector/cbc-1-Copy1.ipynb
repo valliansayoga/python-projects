{
 "cells": [
  {
   "cell_type": "code",
   "execution_count": 8,
   "metadata": {
    "ExecuteTime": {
     "end_time": "2022-10-26T09:39:51.590778Z",
     "start_time": "2022-10-26T09:39:51.574872Z"
    }
   },
   "outputs": [],
   "source": [
    "from selenium import webdriver\n",
    "from selenium.webdriver import ActionChains\n",
    "from selenium.webdriver.common.by import By\n",
    "from selenium.webdriver.support.ui import WebDriverWait\n",
    "from selenium.webdriver.support import expected_conditions as EC\n",
    "import pandas as pd\n",
    "import time\n",
    "from fake_useragent import UserAgent\n",
    "from selenium.webdriver.common.keys import Keys\n",
    "from selenium.webdriver.chrome.options import Options"
   ]
  },
  {
   "cell_type": "code",
   "execution_count": 9,
   "metadata": {
    "ExecuteTime": {
     "end_time": "2022-10-26T09:39:51.762589Z",
     "start_time": "2022-10-26T09:39:51.743160Z"
    }
   },
   "outputs": [],
   "source": [
    "cbc = pd.read_csv('cbc_df_mika.csv')"
   ]
  },
  {
   "cell_type": "code",
   "execution_count": 13,
   "metadata": {
    "ExecuteTime": {
     "end_time": "2022-10-26T09:40:03.794557Z",
     "start_time": "2022-10-26T09:40:03.781200Z"
    }
   },
   "outputs": [],
   "source": [
    "cbc2= cbc['0'].values.tolist()\n",
    "# df3 = df2[:5]\n",
    "options = webdriver.ChromeOptions()\n",
    "options.add_argument('--disable-blink-features=AutomationControlled')\n",
    "options.add_argument(\"window-size=1280,800\")\n",
    "# options.add_argument(\"user-agent=Mozilla/5.0 (Windows NT 10.0; Win64; x64) AppleWebKit/537.36 (KHTML, like Gecko) Chrome/74.0.3729.169 Safari/537.36\")\n"
   ]
  },
  {
   "cell_type": "code",
   "execution_count": 14,
   "metadata": {
    "ExecuteTime": {
     "end_time": "2022-10-26T09:40:04.697684Z",
     "start_time": "2022-10-26T09:40:04.689811Z"
    }
   },
   "outputs": [
    {
     "data": {
      "text/plain": [
       "'GOLDEN COMMUNICATION'"
      ]
     },
     "execution_count": 14,
     "metadata": {},
     "output_type": "execute_result"
    }
   ],
   "source": [
    "cbc2[0]"
   ]
  },
  {
   "cell_type": "code",
   "execution_count": 15,
   "metadata": {
    "ExecuteTime": {
     "end_time": "2022-10-26T09:40:06.019911Z",
     "start_time": "2022-10-26T09:40:06.001194Z"
    }
   },
   "outputs": [],
   "source": [
    "# # Run only once!\n",
    "# cbc2_sectorlist= []\n",
    "# cbc2_company= []"
   ]
  },
  {
   "cell_type": "code",
   "execution_count": 37,
   "metadata": {
    "ExecuteTime": {
     "end_time": "2022-11-01T06:52:35.171333Z",
     "start_time": "2022-11-01T06:19:54.813209Z"
    }
   },
   "outputs": [
    {
     "name": "stdout",
     "output_type": "stream",
     "text": [
      "696 RKD BANJARKEMUNING SEDATI \n",
      " 60401142 SD INPRES 54 KABUPATEN SORONG - none\n",
      "Delivery &amp; Collection (Services)\n",
      "697 SWIFT KARGONIZE \n",
      " ASH-SHAFF PALEMBANG - none\n",
      "698 INTERMEDIA DIGITAL TEKNOLOGI \n",
      " PRY PEMBINAAN KESEJ SOS KEL - none\n",
      "699 SD INPRES 60 SIDEY \n",
      " SUKSES SARRIE KINTANO - none\n",
      "Hospitals\n",
      "700 NAHDLATUL ULAMA \n",
      " TIGASERANGKAI PUSTAKAMANDIRI - none\n",
      "701 LITTLE ISLAND PROPERTY \n",
      " RKD BANJARKEMUNING SEDATI - none\n",
      "702 HITECH POWER ENGINEERING \n",
      " SWIFT KARGONIZE - Delivery &amp; Collection (Services)\n",
      "703 ISLAM YASIN KEBONAGUNG DEMAK \n",
      " INTERMEDIA DIGITAL TEKNOLOGI - none\n",
      "704 BEND DPKK TKI DISNAKERTRANS \n",
      " SD INPRES 60 SIDEY - none\n",
      "Food Oils And Fats (Manufacture, Wholesale)\n",
      "705 SANDABI INDAH LESTARI \n",
      " NAHDLATUL ULAMA - Hospitals\n",
      "706 SEKERTARIAT PPD FAKFAK TENGAH \n",
      " LITTLE ISLAND PROPERTY - none\n",
      "707 BALAI PELATIHAN TRANSMIGRASI MALUKU \n",
      " HITECH POWER ENGINEERING - none\n",
      "708 SERAYA NUSA PERMAI \n",
      " ISLAM YASIN KEBONAGUNG DEMAK - none\n",
      "Aluminium And Alloys (Production, Transformation And Trade)\n",
      "709 MITRA ALUMINDO SELARAS \n",
      " BEND DPKK TKI DISNAKERTRANS - none\n",
      "710 PUSKESMAS WAY SULAN \n",
      " SANDABI INDAH LESTARI - Food Oils And Fats (Manufacture, Wholesale)\n",
      "Restaurants\n",
      "711 SAC NUSANTARA \n",
      " SEKERTARIAT PPD FAKFAK TENGAH - none\n",
      "712 PAHLAWAN MEDIKA CENTER \n",
      " BALAI PELATIHAN TRANSMIGRASI MALUKU - none\n",
      "Banks\n",
      "713 BPR PUSAKA \n",
      " SERAYA NUSA PERMAI - none\n",
      "714 ABDI MULTI INVESTAMA \n",
      " MITRA ALUMINDO SELARAS - Aluminium And Alloys (Production, Transformation And Trade)\n",
      "Chemical Products (Manufacture, Wholesale)\n",
      "715 NUFARM INDONESIA \n",
      " PUSKESMAS WAY SULAN - none\n",
      "716 BATANTA DEWATA JAYA \n",
      " SAC NUSANTARA - Restaurants\n",
      "Manufacture, Installation And Repair Of Pumps\n",
      "717 IKANINDO REKATAMA CIPTA \n",
      " PAHLAWAN MEDIKA CENTER - none\n",
      "718 BUDI SEHAT SENTRA DIAGNOSTIKA \n",
      " BPR PUSAKA - Banks\n",
      "719 BANK DAERAH KABUPATEN KEDIRI \n",
      " ABDI MULTI INVESTAMA - none\n",
      "720 BPR SURYA ARTHAGUNA ABADI \n",
      " NUFARM INDONESIA - Chemical Products (Manufacture, Wholesale)\n",
      "721 INSTITUT SAINS DAN TEKHNOLOGI AKPRIND \n",
      " BATANTA DEWATA JAYA - none\n",
      "Portfolio Managers\n",
      "722 BINA BANGUN BAHARI \n",
      " IKANINDO REKATAMA CIPTA - Manufacture, Installation And Repair Of Pumps\n",
      "General Warehouses And Shops\n",
      "723 AGRO ABADI \n",
      " BUDI SEHAT SENTRA DIAGNOSTIKA - none\n",
      "Engineering - Research Consultants (Miscellaneous)\n",
      "724 GIHON TELEKOMUNIKASI INDONESIA \n",
      " BANK DAERAH KABUPATEN KEDIRI - none\n",
      "725 KHPPIA DINAS PENDIDIKAN \n",
      " BPR SURYA ARTHAGUNA ABADI - none\n",
      "Multisports Halls\n",
      "726 PONDOK INDAH PADANG GOLF \n",
      " INSTITUT SAINS DAN TEKHNOLOGI AKPRIND - none\n",
      "Service Stations\n",
      "727 STEVONICA FAJAR SINAR SURYA \n",
      " BINA BANGUN BAHARI - Portfolio Managers\n",
      "728 NAHLA MEDIKA PHARMA \n",
      " AGRO ABADI - General Warehouses And Shops\n",
      "It: Software, Packages\n",
      "729 GLOBAL INTERMEDIA NUSANTARA \n",
      " GIHON TELEKOMUNIKASI INDONESIA - Engineering - Research Consultants (Miscellaneous)\n",
      "730 SENTOSA BUMI WIJAYA \n",
      " KHPPIA DINAS PENDIDIKAN - none\n",
      "Grocers (Retail)\n",
      "731 MITRA USAHA SUKSES SEJAHTERA \n",
      " PONDOK INDAH PADANG GOLF - Multisports Halls\n",
      "732 CATUR TUNGGAL SANTOSA \n",
      " STEVONICA FAJAR SINAR SURYA - Service Stations\n",
      "733 BPR SUNI \n",
      " NAHLA MEDIKA PHARMA - none\n",
      "734 CAHAYA GRAHA LESTARI \n",
      " GLOBAL INTERMEDIA NUSANTARA - It: Software, Packages\n",
      "735 RKD SIWALANPANJI BUDURAN \n",
      " SENTOSA BUMI WIJAYA - none\n",
      "736 ADHI KERANI INDONESIA \n",
      " MITRA USAHA SUKSES SEJAHTERA - Grocers (Retail)\n",
      "Construction Of Residential And Non-Residential Buildings\n",
      "737 HARAPAN MAJU INDAH \n",
      " CATUR TUNGGAL SANTOSA - none\n",
      "Military Equipment And Supplies\n",
      "738 ARTHA MAS SADHENNA \n",
      " BPR SUNI - none\n",
      "Real Estate (Agents)\n",
      "739 ERASAKTI WIRAFORESTAMA \n",
      " CAHAYA GRAHA LESTARI - none\n",
      "740 SILIKA TIMUR ABADI \n",
      " RKD SIWALANPANJI BUDURAN - none\n",
      "741 BPR NARPADA NUSA \n",
      " ADHI KERANI INDONESIA - none\n",
      "742 SD INPRES 37 RANSIKI \n",
      " HARAPAN MAJU INDAH - Construction Of Residential And Non-Residential Buildings\n",
      "Real Estate (Agents)\n",
      "743 FORMULA LAND \n",
      " ARTHA MAS SADHENNA - Military Equipment And Supplies\n",
      "Fishmongers (Retail)\n",
      "744 NAM KYUNG KOREA INDONESIA \n",
      " ERASAKTI WIRAFORESTAMA - Real Estate (Agents)\n",
      "745 HOUSE OF QUALITY INDONESIA \n",
      " SILIKA TIMUR ABADI - none\n",
      "Hospitals\n",
      "746 SEJAHTERARAYA ANUGRAHJAYA \n",
      " BPR NARPADA NUSA - none\n",
      "747 60401301 SD INPRES 44 KABUPATEN SORONG \n",
      " SD INPRES 37 RANSIKI - none\n",
      "748 BENDAHARA PENGELUARAN DINAS TANAMAN \n",
      " FORMULA LAND - Real Estate (Agents)\n",
      "749 BANTUAN PNPM MANDIRI PERDESAAN \n",
      " NAM KYUNG KOREA INDONESIA - Fishmongers (Retail)\n",
      "Cultural And Socio-Educational Associations And Institutions\n",
      "750 BADAN PENDIDIKAN KRISTEN PENABUR \n",
      " HOUSE OF QUALITY INDONESIA - none\n",
      "751 PUSAKA UTAMA PERSADA \n",
      " SEJAHTERARAYA ANUGRAHJAYA - Hospitals\n",
      "Commodity Agents\n",
      "752 PELAYARAN CITRANSTIRTA TATASARANA \n",
      " 60401301 SD INPRES 44 KABUPATEN SORONG - none\n",
      "753 PENYULUHAN PENCEGAHAN KARHUT \n",
      " BENDAHARA PENGELUARAN DINAS TANAMAN - none\n",
      "754 PPS WUTSHA AL AMANI BATAM \n",
      " BANTUAN PNPM MANDIRI PERDESAAN - none\n"
     ]
    },
    {
     "ename": "TimeoutException",
     "evalue": "Message: \n",
     "output_type": "error",
     "traceback": [
      "\u001b[1;31m---------------------------------------------------------------------------\u001b[0m",
      "\u001b[1;31mTimeoutException\u001b[0m                          Traceback (most recent call last)",
      "\u001b[1;32m<ipython-input-37-11a240e51682>\u001b[0m in \u001b[0;36m<module>\u001b[1;34m\u001b[0m\n\u001b[0;32m     17\u001b[0m \u001b[1;31m# cbc2_company= []\u001b[0m\u001b[1;33m\u001b[0m\u001b[1;33m\u001b[0m\u001b[1;33m\u001b[0m\u001b[0m\n\u001b[0;32m     18\u001b[0m \u001b[1;32mfor\u001b[0m \u001b[0mi\u001b[0m \u001b[1;32min\u001b[0m \u001b[0mrange\u001b[0m\u001b[1;33m(\u001b[0m\u001b[1;36m696\u001b[0m\u001b[1;33m,\u001b[0m\u001b[0mlen\u001b[0m\u001b[1;33m(\u001b[0m\u001b[0mcbc2\u001b[0m\u001b[1;33m)\u001b[0m\u001b[1;33m)\u001b[0m\u001b[1;33m:\u001b[0m\u001b[1;33m\u001b[0m\u001b[1;33m\u001b[0m\u001b[0m\n\u001b[1;32m---> 19\u001b[1;33m     \u001b[0mstep1\u001b[0m \u001b[1;33m=\u001b[0m \u001b[0mwait\u001b[0m\u001b[1;33m.\u001b[0m\u001b[0muntil\u001b[0m\u001b[1;33m(\u001b[0m\u001b[0mEC\u001b[0m\u001b[1;33m.\u001b[0m\u001b[0melement_to_be_clickable\u001b[0m\u001b[1;33m(\u001b[0m\u001b[1;33m(\u001b[0m\u001b[0mBy\u001b[0m\u001b[1;33m.\u001b[0m\u001b[0mXPATH\u001b[0m\u001b[1;33m,\u001b[0m \u001b[1;34m\"//*[@id='search-term-input-header']\"\u001b[0m\u001b[1;33m)\u001b[0m\u001b[1;33m)\u001b[0m\u001b[1;33m)\u001b[0m\u001b[1;33m\u001b[0m\u001b[1;33m\u001b[0m\u001b[0m\n\u001b[0m\u001b[0;32m     20\u001b[0m     \u001b[0mtime\u001b[0m\u001b[1;33m.\u001b[0m\u001b[0msleep\u001b[0m\u001b[1;33m(\u001b[0m\u001b[1;36m1.7\u001b[0m\u001b[1;33m)\u001b[0m\u001b[1;33m\u001b[0m\u001b[1;33m\u001b[0m\u001b[0m\n\u001b[0;32m     21\u001b[0m     \u001b[0mstep1\u001b[0m\u001b[1;33m.\u001b[0m\u001b[0mclick\u001b[0m\u001b[1;33m(\u001b[0m\u001b[1;33m)\u001b[0m\u001b[1;33m\u001b[0m\u001b[1;33m\u001b[0m\u001b[0m\n",
      "\u001b[1;32m~\\anaconda3\\lib\\site-packages\\selenium\\webdriver\\support\\wait.py\u001b[0m in \u001b[0;36muntil\u001b[1;34m(self, method, message)\u001b[0m\n\u001b[0;32m     78\u001b[0m             \u001b[1;32mif\u001b[0m \u001b[0mtime\u001b[0m\u001b[1;33m.\u001b[0m\u001b[0mtime\u001b[0m\u001b[1;33m(\u001b[0m\u001b[1;33m)\u001b[0m \u001b[1;33m>\u001b[0m \u001b[0mend_time\u001b[0m\u001b[1;33m:\u001b[0m\u001b[1;33m\u001b[0m\u001b[1;33m\u001b[0m\u001b[0m\n\u001b[0;32m     79\u001b[0m                 \u001b[1;32mbreak\u001b[0m\u001b[1;33m\u001b[0m\u001b[1;33m\u001b[0m\u001b[0m\n\u001b[1;32m---> 80\u001b[1;33m         \u001b[1;32mraise\u001b[0m \u001b[0mTimeoutException\u001b[0m\u001b[1;33m(\u001b[0m\u001b[0mmessage\u001b[0m\u001b[1;33m,\u001b[0m \u001b[0mscreen\u001b[0m\u001b[1;33m,\u001b[0m \u001b[0mstacktrace\u001b[0m\u001b[1;33m)\u001b[0m\u001b[1;33m\u001b[0m\u001b[1;33m\u001b[0m\u001b[0m\n\u001b[0m\u001b[0;32m     81\u001b[0m \u001b[1;33m\u001b[0m\u001b[0m\n\u001b[0;32m     82\u001b[0m     \u001b[1;32mdef\u001b[0m \u001b[0muntil_not\u001b[0m\u001b[1;33m(\u001b[0m\u001b[0mself\u001b[0m\u001b[1;33m,\u001b[0m \u001b[0mmethod\u001b[0m\u001b[1;33m,\u001b[0m \u001b[0mmessage\u001b[0m\u001b[1;33m=\u001b[0m\u001b[1;34m''\u001b[0m\u001b[1;33m)\u001b[0m\u001b[1;33m:\u001b[0m\u001b[1;33m\u001b[0m\u001b[1;33m\u001b[0m\u001b[0m\n",
      "\u001b[1;31mTimeoutException\u001b[0m: Message: \n"
     ]
    }
   ],
   "source": [
    "driver = webdriver.Chrome(options=options, executable_path=r\"C:\\Users\\Mika\\Documents\\Mika\\Untitled Folder\\chromedriver_win32\\chromedriver.exe\")\n",
    "url = 'https://local.infobel.co.id/'\n",
    "driver.get(url) \n",
    "time.sleep(3.5)\n",
    "wait = WebDriverWait(driver, 30)\n",
    "action = ActionChains(driver)\n",
    "\n",
    "#1\n",
    "step1 = wait.until(EC.element_to_be_clickable((By.XPATH, \"//*[@id='search-term-input-header']\")))\n",
    "time.sleep(3)\n",
    "step1.click()\n",
    "# time.sleep(3)\n",
    "# step1.send_keys(cbc2[0])\n",
    "# time.sleep(3)\n",
    "\n",
    "# cbc2_sectorlist= []\n",
    "# cbc2_company= []\n",
    "for i in range(696,len(cbc2)):\n",
    "    step1 = wait.until(EC.element_to_be_clickable((By.XPATH, \"//*[@id='search-term-input-header']\")))\n",
    "    time.sleep(1.7)\n",
    "    step1.click()\n",
    "    time.sleep(1.7)\n",
    "    step1.send_keys(Keys.CONTROL + \"a\")\n",
    "    time.sleep(1.7)\n",
    "    step1.send_keys(Keys.DELETE)\n",
    "    time.sleep(1.7)\n",
    "    step1.send_keys(cbc2[i])\n",
    "    time.sleep(1.7)\n",
    "    clicked = wait.until(EC.element_to_be_clickable((By.XPATH, '//*[@id=\"btn-search-header\"]')))\n",
    "    time.sleep(1.7)\n",
    "    clicked.click()\n",
    "    time.sleep(2)\n",
    "    try:\n",
    "        sector = wait.until(EC.presence_of_element_located((By.XPATH, \"/html/body/div[3]/div[1]/div[1]/div[4]/div[1]/div[1]/div/div[1]/div[2]/div[1]/div[1]/div[2]/div/div[1]/div/div/a\")))\n",
    "        time.sleep(2.2)\n",
    "        sector_ =sector.get_attribute('innerHTML')\n",
    "        print(sector_)\n",
    "        cbc2_sectorlist.append(sector_)\n",
    "        cbc2_company.append(cbc2[i])\n",
    "        print(i,cbc2[i],\"\\n\",cbc2_company[i],\"-\",cbc2_sectorlist[i])\n",
    "    except:\n",
    "        cbc2_company.append(cbc2[i])\n",
    "        cbc2_sectorlist.append('none')\n",
    "        print(i,cbc2[i],\"\\n\",cbc2_company[i],\"-\",cbc2_sectorlist[i])\n",
    "        continue"
   ]
  },
  {
   "cell_type": "code",
   "execution_count": 17,
   "metadata": {
    "ExecuteTime": {
     "end_time": "2022-10-26T10:15:18.476114Z",
     "start_time": "2022-10-26T10:15:18.458939Z"
    }
   },
   "outputs": [
    {
     "data": {
      "text/plain": [
       "42"
      ]
     },
     "execution_count": 17,
     "metadata": {},
     "output_type": "execute_result"
    }
   ],
   "source": [
    "cbc2.index('30401528 SD PATRA DHARMA 1 BALIKPAPAN')"
   ]
  },
  {
   "cell_type": "code",
   "execution_count": 20,
   "metadata": {
    "ExecuteTime": {
     "end_time": "2022-10-31T03:32:56.845429Z",
     "start_time": "2022-10-31T03:32:56.705588Z"
    }
   },
   "outputs": [
    {
     "data": {
      "text/plain": [
       "['GOLDEN COMMUNICATION',\n",
       " 'MTA ALKES INDO',\n",
       " '30402854 SD NEGERI 005 BALIKPAPAN KOTA',\n",
       " 'SUMBER BERKAT ABADI',\n",
       " 'MULTI MAKMUR',\n",
       " 'AGRINA SANGKARA PERSADA',\n",
       " 'OPS ARTIFEX INDONESIA',\n",
       " 'SAPROTAN AGROMAKMUR',\n",
       " 'SEJATI MARINE PERKASA',\n",
       " 'BPR GARUT CABANG CISEWU',\n",
       " 'SINAR GTLO BERLIAN MOTOR',\n",
       " 'ANUGERAH TRADING MINING',\n",
       " 'BENDBGNPRYPEMBINAAN LEMBPEMSYM',\n",
       " 'LEMBONGAN BAR',\n",
       " 'GREEN PERSADA ENVIRO',\n",
       " 'BENDAHARA PEMBANTU PENGELUARAN UPSUS',\n",
       " 'BP PENINGMANAJEMEN UPAYA KES',\n",
       " 'ESA SAMPOERNA',\n",
       " 'RKD TAMBAK SUMUR WARU',\n",
       " 'BESMINDO ANDALAS SEMESTA',\n",
       " 'BAGPRO PENINGK UPAYA PPM PROPINSI MU',\n",
       " 'PELAYARAN MERCUSUAR LINTASINDO',\n",
       " 'AGRI MITRA KARYA',\n",
       " 'UNIVERSITAS ISLAM RIAU',\n",
       " 'GEMA KREASI PERDANA',\n",
       " 'HATINDO MAKMUR',\n",
       " 'RAMA DWI ANTIKA',\n",
       " 'IBR SUKSES SEJAHTERA',\n",
       " 'PROYEK PENINGKATAN KAPASITAS',\n",
       " 'SMESHUB BANGUN NEGERI',\n",
       " 'SHINKWANG VENTURES INDONESIA',\n",
       " 'BATUTUA WAYKANAN MINERALS',\n",
       " 'BEND TPK BATAN PEMDA NTB',\n",
       " '69915068 KB CIKAL HARAPAN',\n",
       " 'PUSKESMAS CONCONG LUAR',\n",
       " 'NUSA LESTARI',\n",
       " '70014106 KB IFAROHISLAM PLUS AL',\n",
       " 'BPR WAWAY LAMPUNG (PERSERODA)',\n",
       " 'BPR PK BALONGAN CABANG SUKRA',\n",
       " 'BANUA BERSATU',\n",
       " 'BUMI MINING MANDIRI',\n",
       " 'GAMAS INTERNATIONAL REAL ESTATE',\n",
       " '30401528 SD PATRA DHARMA 1 BALIKPAPAN',\n",
       " 'BAWAKARAENG MAKMUR',\n",
       " 'BAWAKARAENG MAKMUR',\n",
       " 'PEMERINTAH KAMPUNG GELELAME',\n",
       " 'DJEMBATAN DUA',\n",
       " 'KEBUMEN EYE CENTER',\n",
       " 'AMANAT KESEJAHTERAAN INDONESIA',\n",
       " 'YAYASAN KIDS SHINE SCHOOL',\n",
       " 'CITRA AGUNG UTAMA',\n",
       " 'CITRA KALIMANTAN MEDIATAMA',\n",
       " 'KARYA GEMILANG LIMPAH REJEKI',\n",
       " 'MAYA MUNCAR',\n",
       " '30401638 SD NEGERI 008 BALIKPAPAN TIMUR',\n",
       " 'SATRIA PUTERA BAHARI',\n",
       " 'PURI DIMENSI',\n",
       " 'DINAS KESEHATAN DAN KESEJAHTERAAN SOSIAL',\n",
       " 'YUDISTIRA HAKA PERKASA',\n",
       " 'INSTALASI BEDAH SENTRAL RSUD DR MOEWARDI',\n",
       " 'BENDAHARA KEJAKSAAN NEGERI TANJAB BARAT',\n",
       " 'GLAUCYA SELIM MALIK',\n",
       " 'PROYEK PENINGKATAN WASBANG',\n",
       " 'GRAHA UTAMA DEVELOPMENT',\n",
       " 'RUMAH SAKIT KEBONJATI',\n",
       " 'NATA SARANA INTERNUSA',\n",
       " '60401326 SD NEGERI 5 KABUPATEN SORONG',\n",
       " 'PERKUMPULAN KOMUNITAS BEPERS INDONESIA',\n",
       " 'CIPTATAMA DIMENSI PRIMA',\n",
       " 'BUMDES URIPCU',\n",
       " 'JARINGAN KERJA PENYELAMATAN HUTAN RIAU',\n",
       " 'WARDANA ADHI DJAYA',\n",
       " '30407057 TK BINA TARUNA',\n",
       " 'PDGKI CABANG JAWA BARAT',\n",
       " 'BMT ASIA INDONESIA',\n",
       " 'MEGAH ASRI BUSANA INTERNASIONAL',\n",
       " 'POHON INDAH BALI LAND',\n",
       " 'HADJI KALLA CAB BULUKUMBA',\n",
       " 'BORNEO ALAM JAYA PLANTATION',\n",
       " 'DIEN PUTRA GARDEN',\n",
       " 'YUZHARADYA',\n",
       " 'RKD LEMUJUT KREMBUNG',\n",
       " 'GARDA PERKASA SEKURITI',\n",
       " 'UNIVERSITAS KRISNADWIPAYANA',\n",
       " 'ATHLON JAYA TEKNIK',\n",
       " '69728506 SD NEGERI 23 KABUPATEN SORONG']"
      ]
     },
     "execution_count": 20,
     "metadata": {},
     "output_type": "execute_result"
    }
   ],
   "source": [
    "cbc2_company"
   ]
  },
  {
   "cell_type": "code",
   "execution_count": 52,
   "metadata": {
    "ExecuteTime": {
     "end_time": "2022-10-26T09:21:19.770380Z",
     "start_time": "2022-10-26T09:21:19.646400Z"
    }
   },
   "outputs": [
    {
     "data": {
      "text/plain": [
       "['Advertising (Media And Production Teams)',\n",
       " 'none',\n",
       " 'none',\n",
       " 'none',\n",
       " 'none',\n",
       " 'none',\n",
       " 'none',\n",
       " 'none',\n",
       " 'none',\n",
       " 'none',\n",
       " 'none',\n",
       " 'none',\n",
       " 'none',\n",
       " 'none',\n",
       " 'none',\n",
       " 'none',\n",
       " 'none',\n",
       " 'none',\n",
       " 'none',\n",
       " 'none',\n",
       " 'none',\n",
       " 'none',\n",
       " 'none',\n",
       " 'none',\n",
       " 'none',\n",
       " 'none',\n",
       " 'none',\n",
       " 'none',\n",
       " 'none',\n",
       " 'none',\n",
       " 'none',\n",
       " 'none',\n",
       " 'none',\n",
       " 'none',\n",
       " 'none',\n",
       " 'none',\n",
       " 'none',\n",
       " 'none',\n",
       " 'none',\n",
       " 'none',\n",
       " 'none',\n",
       " 'none',\n",
       " 'none',\n",
       " 'none',\n",
       " 'none',\n",
       " 'none',\n",
       " 'none',\n",
       " 'none',\n",
       " 'none',\n",
       " 'none',\n",
       " 'none',\n",
       " 'none',\n",
       " 'none',\n",
       " 'none',\n",
       " 'none',\n",
       " 'none',\n",
       " 'none',\n",
       " 'none',\n",
       " 'none',\n",
       " 'none',\n",
       " 'none',\n",
       " 'none',\n",
       " 'none',\n",
       " 'none',\n",
       " 'none',\n",
       " 'none',\n",
       " 'none',\n",
       " 'none',\n",
       " 'none',\n",
       " 'none',\n",
       " 'none',\n",
       " 'none',\n",
       " 'none',\n",
       " 'none',\n",
       " 'none',\n",
       " 'none',\n",
       " 'none',\n",
       " 'none',\n",
       " 'none',\n",
       " 'none',\n",
       " 'none',\n",
       " 'none',\n",
       " 'none',\n",
       " 'none',\n",
       " 'none',\n",
       " 'none',\n",
       " 'none',\n",
       " 'none',\n",
       " 'none',\n",
       " 'none',\n",
       " 'none',\n",
       " 'none',\n",
       " 'none',\n",
       " 'none',\n",
       " 'none',\n",
       " 'none',\n",
       " 'none',\n",
       " 'none',\n",
       " 'none',\n",
       " 'none',\n",
       " 'none',\n",
       " 'none',\n",
       " 'none',\n",
       " 'none',\n",
       " 'none',\n",
       " 'none',\n",
       " 'none',\n",
       " 'none',\n",
       " 'none',\n",
       " 'none',\n",
       " 'none',\n",
       " 'none',\n",
       " 'none',\n",
       " 'none',\n",
       " 'none',\n",
       " 'none',\n",
       " 'none',\n",
       " 'none',\n",
       " 'none',\n",
       " 'none',\n",
       " 'none',\n",
       " 'none',\n",
       " 'none',\n",
       " 'none',\n",
       " 'none',\n",
       " 'none',\n",
       " 'none',\n",
       " 'none',\n",
       " 'none',\n",
       " 'none',\n",
       " 'none',\n",
       " 'none',\n",
       " 'none',\n",
       " 'none',\n",
       " 'none',\n",
       " 'none',\n",
       " 'none',\n",
       " 'none',\n",
       " 'none',\n",
       " 'none',\n",
       " 'none',\n",
       " 'none',\n",
       " 'none',\n",
       " 'none',\n",
       " 'none',\n",
       " 'none',\n",
       " 'none',\n",
       " 'none',\n",
       " 'none',\n",
       " 'none',\n",
       " 'none',\n",
       " 'none',\n",
       " 'none',\n",
       " 'none',\n",
       " 'none',\n",
       " 'none',\n",
       " 'none',\n",
       " 'none',\n",
       " 'none',\n",
       " 'none',\n",
       " 'none',\n",
       " 'none',\n",
       " 'none',\n",
       " 'none',\n",
       " 'none',\n",
       " 'none',\n",
       " 'none',\n",
       " 'none',\n",
       " 'none',\n",
       " 'none',\n",
       " 'none',\n",
       " 'none',\n",
       " 'none',\n",
       " 'none',\n",
       " 'none',\n",
       " 'none',\n",
       " 'none',\n",
       " 'none',\n",
       " 'none']"
      ]
     },
     "execution_count": 52,
     "metadata": {},
     "output_type": "execute_result"
    }
   ],
   "source": [
    "sectorlist"
   ]
  },
  {
   "cell_type": "code",
   "execution_count": 37,
   "metadata": {
    "ExecuteTime": {
     "end_time": "2022-10-26T04:11:46.409384Z",
     "start_time": "2022-10-26T04:11:46.389283Z"
    }
   },
   "outputs": [
    {
     "name": "stdout",
     "output_type": "stream",
     "text": [
      "0 GOLDEN COMMUNICATION \n",
      " GOLDEN COMMUNICATION - Advertising (Media And Production Teams)\n"
     ]
    },
    {
     "ename": "IndexError",
     "evalue": "list index out of range",
     "output_type": "error",
     "traceback": [
      "\u001b[1;31m---------------------------------------------------------------------------\u001b[0m",
      "\u001b[1;31mIndexError\u001b[0m                                Traceback (most recent call last)",
      "\u001b[1;32m<ipython-input-37-04ec1b4d2df5>\u001b[0m in \u001b[0;36m<module>\u001b[1;34m\u001b[0m\n\u001b[0;32m      1\u001b[0m \u001b[1;32mfor\u001b[0m \u001b[0mi\u001b[0m \u001b[1;32min\u001b[0m \u001b[0mrange\u001b[0m\u001b[1;33m(\u001b[0m\u001b[1;36m0\u001b[0m\u001b[1;33m,\u001b[0m\u001b[1;36m2\u001b[0m\u001b[1;33m)\u001b[0m\u001b[1;33m:\u001b[0m\u001b[1;33m\u001b[0m\u001b[1;33m\u001b[0m\u001b[0m\n\u001b[1;32m----> 2\u001b[1;33m     \u001b[0mprint\u001b[0m\u001b[1;33m(\u001b[0m\u001b[0mi\u001b[0m\u001b[1;33m,\u001b[0m\u001b[0mcbc2\u001b[0m\u001b[1;33m[\u001b[0m\u001b[0mi\u001b[0m\u001b[1;33m]\u001b[0m\u001b[1;33m,\u001b[0m\u001b[1;34m\"\\n\"\u001b[0m\u001b[1;33m,\u001b[0m\u001b[0mcompany\u001b[0m\u001b[1;33m[\u001b[0m\u001b[0mi\u001b[0m\u001b[1;33m]\u001b[0m\u001b[1;33m,\u001b[0m\u001b[1;34m\"-\"\u001b[0m\u001b[1;33m,\u001b[0m\u001b[0msectorlist\u001b[0m\u001b[1;33m[\u001b[0m\u001b[0mi\u001b[0m\u001b[1;33m]\u001b[0m\u001b[1;33m)\u001b[0m\u001b[1;33m\u001b[0m\u001b[1;33m\u001b[0m\u001b[0m\n\u001b[0m",
      "\u001b[1;31mIndexError\u001b[0m: list index out of range"
     ]
    }
   ],
   "source": [
    "for i in range(0,2):\n",
    "    print(i,cbc2[i],\"\\n\",company[i],\"-\",sectorlist[i])\n"
   ]
  },
  {
   "cell_type": "code",
   "execution_count": 43,
   "metadata": {
    "ExecuteTime": {
     "end_time": "2022-10-18T06:43:32.656841Z",
     "start_time": "2022-10-18T06:43:32.641506Z"
    }
   },
   "outputs": [
    {
     "data": {
      "text/html": [
       "<div>\n",
       "<style scoped>\n",
       "    .dataframe tbody tr th:only-of-type {\n",
       "        vertical-align: middle;\n",
       "    }\n",
       "\n",
       "    .dataframe tbody tr th {\n",
       "        vertical-align: top;\n",
       "    }\n",
       "\n",
       "    .dataframe thead th {\n",
       "        text-align: right;\n",
       "    }\n",
       "</style>\n",
       "<table border=\"1\" class=\"dataframe\">\n",
       "  <thead>\n",
       "    <tr style=\"text-align: right;\">\n",
       "      <th></th>\n",
       "      <th>company</th>\n",
       "      <th>sector</th>\n",
       "    </tr>\n",
       "  </thead>\n",
       "  <tbody>\n",
       "    <tr>\n",
       "      <th>0</th>\n",
       "      <td>SEJAHTERARAYA ANUGRAHJAYA</td>\n",
       "      <td>Hospitals</td>\n",
       "    </tr>\n",
       "    <tr>\n",
       "      <th>1</th>\n",
       "      <td>BPR BKK KEBUMEN ( PERSERODA )</td>\n",
       "      <td>none</td>\n",
       "    </tr>\n",
       "    <tr>\n",
       "      <th>2</th>\n",
       "      <td>SARANA GRAHA MAKMUR ABADI</td>\n",
       "      <td>none</td>\n",
       "    </tr>\n",
       "    <tr>\n",
       "      <th>3</th>\n",
       "      <td>ABADI MITRA SEJATI</td>\n",
       "      <td>Delivery &amp;amp; Collection (Services)</td>\n",
       "    </tr>\n",
       "    <tr>\n",
       "      <th>4</th>\n",
       "      <td>PLASMA INDO NUSANTARA</td>\n",
       "      <td>none</td>\n",
       "    </tr>\n",
       "    <tr>\n",
       "      <th>...</th>\n",
       "      <td>...</td>\n",
       "      <td>...</td>\n",
       "    </tr>\n",
       "    <tr>\n",
       "      <th>218</th>\n",
       "      <td>HASTA CITRA KONSTRUKSI - HASRAT</td>\n",
       "      <td>none</td>\n",
       "    </tr>\n",
       "    <tr>\n",
       "      <th>219</th>\n",
       "      <td>MAJU JAYA</td>\n",
       "      <td>Plumbers</td>\n",
       "    </tr>\n",
       "    <tr>\n",
       "      <th>220</th>\n",
       "      <td>STUD GILI TRAWANGAN</td>\n",
       "      <td>none</td>\n",
       "    </tr>\n",
       "    <tr>\n",
       "      <th>221</th>\n",
       "      <td>TIGASERANGKAI PUSTAKAMANDIRI</td>\n",
       "      <td>none</td>\n",
       "    </tr>\n",
       "    <tr>\n",
       "      <th>222</th>\n",
       "      <td>ANDALAN KREASI PRATAMA</td>\n",
       "      <td>none</td>\n",
       "    </tr>\n",
       "  </tbody>\n",
       "</table>\n",
       "<p>223 rows × 2 columns</p>\n",
       "</div>"
      ],
      "text/plain": [
       "                             company                                sector\n",
       "0          SEJAHTERARAYA ANUGRAHJAYA                             Hospitals\n",
       "1      BPR BKK KEBUMEN ( PERSERODA )                                  none\n",
       "2          SARANA GRAHA MAKMUR ABADI                                  none\n",
       "3                 ABADI MITRA SEJATI  Delivery &amp; Collection (Services)\n",
       "4              PLASMA INDO NUSANTARA                                  none\n",
       "..                               ...                                   ...\n",
       "218  HASTA CITRA KONSTRUKSI - HASRAT                                  none\n",
       "219                        MAJU JAYA                              Plumbers\n",
       "220              STUD GILI TRAWANGAN                                  none\n",
       "221     TIGASERANGKAI PUSTAKAMANDIRI                                  none\n",
       "222           ANDALAN KREASI PRATAMA                                  none\n",
       "\n",
       "[223 rows x 2 columns]"
      ]
     },
     "execution_count": 43,
     "metadata": {},
     "output_type": "execute_result"
    }
   ],
   "source": [
    "cbc_1 = pd.DataFrame(list(zip(company,sectorlist)),columns=['company','sector'])\n",
    "cbc_1"
   ]
  },
  {
   "cell_type": "code",
   "execution_count": 44,
   "metadata": {
    "ExecuteTime": {
     "end_time": "2022-10-18T06:51:08.034720Z",
     "start_time": "2022-10-18T06:51:07.348511Z"
    }
   },
   "outputs": [],
   "source": [
    "cbc_1.to_csv('cbc_mika.csv')"
   ]
  },
  {
   "cell_type": "code",
   "execution_count": null,
   "metadata": {},
   "outputs": [],
   "source": []
  }
 ],
 "metadata": {
  "kernelspec": {
   "display_name": "Python 3 (ipykernel)",
   "language": "python",
   "name": "python3"
  },
  "language_info": {
   "codemirror_mode": {
    "name": "ipython",
    "version": 3
   },
   "file_extension": ".py",
   "mimetype": "text/x-python",
   "name": "python",
   "nbconvert_exporter": "python",
   "pygments_lexer": "ipython3",
   "version": "3.11.1"
  },
  "toc": {
   "base_numbering": 1,
   "nav_menu": {},
   "number_sections": true,
   "sideBar": true,
   "skip_h1_title": false,
   "title_cell": "Table of Contents",
   "title_sidebar": "Contents",
   "toc_cell": false,
   "toc_position": {},
   "toc_section_display": true,
   "toc_window_display": false
  }
 },
 "nbformat": 4,
 "nbformat_minor": 4
}
