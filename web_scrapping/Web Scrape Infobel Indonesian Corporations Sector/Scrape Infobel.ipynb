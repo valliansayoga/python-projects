{
 "cells": [
  {
   "cell_type": "markdown",
   "id": "bb4de183-b9c1-4b79-aec5-e523f5a746df",
   "metadata": {},
   "source": [
    "# Helper Functions"
   ]
  },
  {
   "cell_type": "code",
   "execution_count": 1,
   "id": "55fc4102-7c2b-4299-8344-fc5434e871e4",
   "metadata": {},
   "outputs": [],
   "source": [
    "import vallian_helper_functions as vhf\n",
    "from pprint import pprint\n",
    "import numpy as np"
   ]
  },
  {
   "cell_type": "markdown",
   "id": "997164bf-7d6f-44b0-93f1-85f7a271758b",
   "metadata": {},
   "source": [
    "# Popular categories\n",
    "\n",
    "Latest finished category index:\n",
    "## 31 <- Next run for 32th index"
   ]
  },
  {
   "cell_type": "code",
   "execution_count": 2,
   "id": "8d8df01b-d95e-4094-bd41-b7fd9340b5b0",
   "metadata": {
    "tags": []
   },
   "outputs": [
    {
     "name": "stdin",
     "output_type": "stream",
     "text": [
      "(Y/N) Do you want to reset the progress or not?  y\n"
     ]
    }
   ],
   "source": [
    "#### Jangan di re-run agar data tidak hilang ####\n",
    "####      Kecuali  ingin reset progress      ####\n",
    "reset = input('(Y/N) Do you want to reset the progress or not? ')\n",
    "np.random.seed()\n",
    "try:\n",
    "    if reset.upper() == 'Y':\n",
    "        popular_links = vhf.load_popular_links()\n",
    "    else:\n",
    "        print(\"\\nExample data:\\n\" + \"-\"*80)\n",
    "        pprint(popular_links[np.random.randint(0, 101)])\n",
    "except NameError:\n",
    "    raise NameError(\"This is the first time you ran the program. Please set `reset` to `Y`\")"
   ]
  },
  {
   "cell_type": "code",
   "execution_count": 118,
   "id": "0911aeaa-cec0-49ad-93af-4c65cd214b04",
   "metadata": {
    "tags": []
   },
   "outputs": [
    {
     "name": "stdout",
     "output_type": "stream",
     "text": [
      "Main process started...\n",
      "================================================================================\n",
      "2023-03-18 21:12:57.871039 Started for 'private_higher_education'\n",
      "2023-03-18 21:13:00.708925 - CRITICAL: Captcha appeared for 'private_higher_education'\n",
      "2023-03-18 21:13:00.709930 - INFO: Saving files...\n",
      "Main process finished for 2.84 s\n"
     ]
    }
   ],
   "source": [
    "vhf.main(\n",
    "    popular_links,\n",
    "    start_index=32,\n",
    ")"
   ]
  },
  {
   "cell_type": "code",
   "execution_count": null,
   "id": "51fb03b8-0a0b-4319-b95d-9105db0ea65e",
   "metadata": {},
   "outputs": [],
   "source": []
  }
 ],
 "metadata": {
  "kernelspec": {
   "display_name": "Python 3 (ipykernel)",
   "language": "python",
   "name": "python3"
  },
  "language_info": {
   "codemirror_mode": {
    "name": "ipython",
    "version": 3
   },
   "file_extension": ".py",
   "mimetype": "text/x-python",
   "name": "python",
   "nbconvert_exporter": "python",
   "pygments_lexer": "ipython3",
   "version": "3.11.0"
  },
  "vscode": {
   "interpreter": {
    "hash": "72b2382ece9768098284d92bbc69d35954e75b60d1e25897d1389c232f4796f0"
   }
  }
 },
 "nbformat": 4,
 "nbformat_minor": 5
}
